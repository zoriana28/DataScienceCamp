{
 "cells": [
  {
   "cell_type": "code",
   "execution_count": 16,
   "metadata": {
    "collapsed": true,
    "ExecuteTime": {
     "end_time": "2023-11-16T12:12:09.951770100Z",
     "start_time": "2023-11-16T12:12:09.761675300Z"
    }
   },
   "outputs": [
    {
     "data": {
      "text/plain": "                    Rank  Documents  Citable documents  Citations  \\\nCountry                                                             \nAustralia             14      25906              25237     495278   \nBrazil                15      25887              25493     260540   \nCanada                 8      39036              38276     787010   \nChina                  1     360468             358777    3947871   \nFrance                12      29351              28759     471469   \nGermany                6      47781              46767     641717   \nIndia                  3      76103              74167     760964   \nItaly                  9      35991              34424     529459   \nJapan                  4      56249              55680     633294   \nSouth Korea           10      35294              35005     503147   \nRussian Federation     7      43567              43290     175721   \nSpain                 13      27880              27272     515485   \nUnited Kingdom         5      52572              51156     909276   \nUnited States          2     199442             195042    3068926   \n\n                    Self-citations  Citations per document  H index  \\\nCountry                                                               \nAustralia                    73639                   19.12      212   \nBrazil                       61982                   10.06      145   \nCanada                      128387                   20.16      263   \nChina                      2721067                   10.95      308   \nFrance                       81389                   16.06      205   \nGermany                     136121                   13.43      230   \nIndia                       284470                   10.00      217   \nItaly                       125153                   14.71      192   \nJapan                       142908                   11.26      217   \nSouth Korea                  88993                   14.26      182   \nRussian Federation           81059                    4.03      103   \nSpain                        90639                   18.49      202   \nUnited Kingdom              154898                   17.30      267   \nUnited States               911809                   15.39      422   \n\n                    Energy Supply  Energy Supply per Capita  % Renewable  \\\nCountry                                                                    \nAustralia               5386000.0                     231.0    11.810810   \nBrazil                 12149000.0                      59.0    69.648030   \nCanada                 10431000.0                     296.0    61.945430   \nChina                 127191000.0                      93.0    19.754910   \nFrance                 10597000.0                     166.0    17.020280   \nGermany                13261000.0                     165.0    17.901530   \nIndia                  33195000.0                      26.0    14.969080   \nItaly                   6530000.0                     109.0    33.667230   \nJapan                  18984000.0                     149.0    10.232820   \nSouth Korea            11007000.0                     221.0     2.279353   \nRussian Federation     30709000.0                     214.0    17.288680   \nSpain                   4923000.0                     106.0    37.968590   \nUnited Kingdom          7920000.0                     124.0    10.600470   \nUnited States          90838000.0                     286.0    11.570980   \n\n                            2006          2007          2008          2009  \\\nCountry                                                                      \nAustralia           7.479074e+11  8.544273e+11  1.055686e+12  9.286298e+11   \nBrazil              1.107627e+12  1.397114e+12  1.695855e+12  1.666996e+12   \nCanada              1.319265e+12  1.468820e+12  1.552990e+12  1.374625e+12   \nChina               2.752119e+12  3.550328e+12  4.594337e+12  5.101691e+12   \nFrance              2.320536e+12  2.660591e+12  2.930304e+12  2.700887e+12   \nGermany             2.994704e+12  3.425578e+12  3.745264e+12  3.411261e+12   \nIndia               9.402599e+11  1.216736e+12  1.198895e+12  1.341888e+12   \nItaly               1.949552e+12  2.213102e+12  2.408655e+12  2.199929e+12   \nJapan               4.601663e+12  4.579750e+12  5.106679e+12  5.289494e+12   \nSouth Korea         1.053217e+12  1.172614e+12  1.047339e+12  9.439419e+11   \nRussian Federation  9.899321e+11  1.299703e+12  1.660848e+12  1.222646e+12   \nSpain               1.260399e+12  1.474003e+12  1.631863e+12  1.491473e+12   \nUnited Kingdom      2.709978e+12  3.092996e+12  2.931684e+12  2.417566e+12   \nUnited States       1.381559e+13  1.447423e+13  1.476986e+13  1.447806e+13   \n\n                            2010          2011          2012          2013  \\\nCountry                                                                      \nAustralia           1.148570e+12  1.398456e+12  1.546953e+12  1.576330e+12   \nBrazil              2.208838e+12  2.616157e+12  2.465228e+12  2.472819e+12   \nCanada              1.617343e+12  1.793327e+12  1.828366e+12  1.846597e+12   \nChina               6.087192e+12  7.551545e+12  8.532186e+12  9.570471e+12   \nFrance              2.645188e+12  2.865158e+12  2.683672e+12  2.811877e+12   \nGermany             3.399668e+12  3.749315e+12  3.527143e+12  3.733805e+12   \nIndia               1.675616e+12  1.823052e+12  1.827638e+12  1.856721e+12   \nItaly               2.136100e+12  2.294994e+12  2.086958e+12  2.141924e+12   \nJapan               5.759072e+12  6.233147e+12  6.272363e+12  5.212328e+12   \nSouth Korea         1.144067e+12  1.253223e+12  1.278428e+12  1.370795e+12   \nRussian Federation  1.524917e+12  2.045923e+12  2.208294e+12  2.292470e+12   \nSpain               1.422108e+12  1.480710e+12  1.324751e+12  1.355580e+12   \nUnited Kingdom      2.491397e+12  2.666403e+12  2.706341e+12  2.786315e+12   \nUnited States       1.504896e+13  1.559973e+13  1.625397e+13  1.684319e+13   \n\n                            2014          2015  \nCountry                                         \nAustralia           1.467590e+12  1.350580e+12  \nBrazil              2.456044e+12  1.802212e+12  \nCanada              1.805750e+12  1.556509e+12  \nChina               1.047562e+13  1.106157e+13  \nFrance              2.855964e+12  2.439189e+12  \nGermany             3.889093e+12  3.357586e+12  \nIndia               2.039126e+12  2.103588e+12  \nItaly               2.162010e+12  1.836638e+12  \nJapan               4.896994e+12  4.444931e+12  \nSouth Korea         1.484318e+12  1.465773e+12  \nRussian Federation  2.059242e+12  1.363482e+12  \nSpain               1.371821e+12  1.196157e+12  \nUnited Kingdom      3.065223e+12  2.934858e+12  \nUnited States       1.755068e+13  1.820602e+13  ",
      "text/html": "<div>\n<style scoped>\n    .dataframe tbody tr th:only-of-type {\n        vertical-align: middle;\n    }\n\n    .dataframe tbody tr th {\n        vertical-align: top;\n    }\n\n    .dataframe thead th {\n        text-align: right;\n    }\n</style>\n<table border=\"1\" class=\"dataframe\">\n  <thead>\n    <tr style=\"text-align: right;\">\n      <th></th>\n      <th>Rank</th>\n      <th>Documents</th>\n      <th>Citable documents</th>\n      <th>Citations</th>\n      <th>Self-citations</th>\n      <th>Citations per document</th>\n      <th>H index</th>\n      <th>Energy Supply</th>\n      <th>Energy Supply per Capita</th>\n      <th>% Renewable</th>\n      <th>2006</th>\n      <th>2007</th>\n      <th>2008</th>\n      <th>2009</th>\n      <th>2010</th>\n      <th>2011</th>\n      <th>2012</th>\n      <th>2013</th>\n      <th>2014</th>\n      <th>2015</th>\n    </tr>\n    <tr>\n      <th>Country</th>\n      <th></th>\n      <th></th>\n      <th></th>\n      <th></th>\n      <th></th>\n      <th></th>\n      <th></th>\n      <th></th>\n      <th></th>\n      <th></th>\n      <th></th>\n      <th></th>\n      <th></th>\n      <th></th>\n      <th></th>\n      <th></th>\n      <th></th>\n      <th></th>\n      <th></th>\n      <th></th>\n    </tr>\n  </thead>\n  <tbody>\n    <tr>\n      <th>Australia</th>\n      <td>14</td>\n      <td>25906</td>\n      <td>25237</td>\n      <td>495278</td>\n      <td>73639</td>\n      <td>19.12</td>\n      <td>212</td>\n      <td>5386000.0</td>\n      <td>231.0</td>\n      <td>11.810810</td>\n      <td>7.479074e+11</td>\n      <td>8.544273e+11</td>\n      <td>1.055686e+12</td>\n      <td>9.286298e+11</td>\n      <td>1.148570e+12</td>\n      <td>1.398456e+12</td>\n      <td>1.546953e+12</td>\n      <td>1.576330e+12</td>\n      <td>1.467590e+12</td>\n      <td>1.350580e+12</td>\n    </tr>\n    <tr>\n      <th>Brazil</th>\n      <td>15</td>\n      <td>25887</td>\n      <td>25493</td>\n      <td>260540</td>\n      <td>61982</td>\n      <td>10.06</td>\n      <td>145</td>\n      <td>12149000.0</td>\n      <td>59.0</td>\n      <td>69.648030</td>\n      <td>1.107627e+12</td>\n      <td>1.397114e+12</td>\n      <td>1.695855e+12</td>\n      <td>1.666996e+12</td>\n      <td>2.208838e+12</td>\n      <td>2.616157e+12</td>\n      <td>2.465228e+12</td>\n      <td>2.472819e+12</td>\n      <td>2.456044e+12</td>\n      <td>1.802212e+12</td>\n    </tr>\n    <tr>\n      <th>Canada</th>\n      <td>8</td>\n      <td>39036</td>\n      <td>38276</td>\n      <td>787010</td>\n      <td>128387</td>\n      <td>20.16</td>\n      <td>263</td>\n      <td>10431000.0</td>\n      <td>296.0</td>\n      <td>61.945430</td>\n      <td>1.319265e+12</td>\n      <td>1.468820e+12</td>\n      <td>1.552990e+12</td>\n      <td>1.374625e+12</td>\n      <td>1.617343e+12</td>\n      <td>1.793327e+12</td>\n      <td>1.828366e+12</td>\n      <td>1.846597e+12</td>\n      <td>1.805750e+12</td>\n      <td>1.556509e+12</td>\n    </tr>\n    <tr>\n      <th>China</th>\n      <td>1</td>\n      <td>360468</td>\n      <td>358777</td>\n      <td>3947871</td>\n      <td>2721067</td>\n      <td>10.95</td>\n      <td>308</td>\n      <td>127191000.0</td>\n      <td>93.0</td>\n      <td>19.754910</td>\n      <td>2.752119e+12</td>\n      <td>3.550328e+12</td>\n      <td>4.594337e+12</td>\n      <td>5.101691e+12</td>\n      <td>6.087192e+12</td>\n      <td>7.551545e+12</td>\n      <td>8.532186e+12</td>\n      <td>9.570471e+12</td>\n      <td>1.047562e+13</td>\n      <td>1.106157e+13</td>\n    </tr>\n    <tr>\n      <th>France</th>\n      <td>12</td>\n      <td>29351</td>\n      <td>28759</td>\n      <td>471469</td>\n      <td>81389</td>\n      <td>16.06</td>\n      <td>205</td>\n      <td>10597000.0</td>\n      <td>166.0</td>\n      <td>17.020280</td>\n      <td>2.320536e+12</td>\n      <td>2.660591e+12</td>\n      <td>2.930304e+12</td>\n      <td>2.700887e+12</td>\n      <td>2.645188e+12</td>\n      <td>2.865158e+12</td>\n      <td>2.683672e+12</td>\n      <td>2.811877e+12</td>\n      <td>2.855964e+12</td>\n      <td>2.439189e+12</td>\n    </tr>\n    <tr>\n      <th>Germany</th>\n      <td>6</td>\n      <td>47781</td>\n      <td>46767</td>\n      <td>641717</td>\n      <td>136121</td>\n      <td>13.43</td>\n      <td>230</td>\n      <td>13261000.0</td>\n      <td>165.0</td>\n      <td>17.901530</td>\n      <td>2.994704e+12</td>\n      <td>3.425578e+12</td>\n      <td>3.745264e+12</td>\n      <td>3.411261e+12</td>\n      <td>3.399668e+12</td>\n      <td>3.749315e+12</td>\n      <td>3.527143e+12</td>\n      <td>3.733805e+12</td>\n      <td>3.889093e+12</td>\n      <td>3.357586e+12</td>\n    </tr>\n    <tr>\n      <th>India</th>\n      <td>3</td>\n      <td>76103</td>\n      <td>74167</td>\n      <td>760964</td>\n      <td>284470</td>\n      <td>10.00</td>\n      <td>217</td>\n      <td>33195000.0</td>\n      <td>26.0</td>\n      <td>14.969080</td>\n      <td>9.402599e+11</td>\n      <td>1.216736e+12</td>\n      <td>1.198895e+12</td>\n      <td>1.341888e+12</td>\n      <td>1.675616e+12</td>\n      <td>1.823052e+12</td>\n      <td>1.827638e+12</td>\n      <td>1.856721e+12</td>\n      <td>2.039126e+12</td>\n      <td>2.103588e+12</td>\n    </tr>\n    <tr>\n      <th>Italy</th>\n      <td>9</td>\n      <td>35991</td>\n      <td>34424</td>\n      <td>529459</td>\n      <td>125153</td>\n      <td>14.71</td>\n      <td>192</td>\n      <td>6530000.0</td>\n      <td>109.0</td>\n      <td>33.667230</td>\n      <td>1.949552e+12</td>\n      <td>2.213102e+12</td>\n      <td>2.408655e+12</td>\n      <td>2.199929e+12</td>\n      <td>2.136100e+12</td>\n      <td>2.294994e+12</td>\n      <td>2.086958e+12</td>\n      <td>2.141924e+12</td>\n      <td>2.162010e+12</td>\n      <td>1.836638e+12</td>\n    </tr>\n    <tr>\n      <th>Japan</th>\n      <td>4</td>\n      <td>56249</td>\n      <td>55680</td>\n      <td>633294</td>\n      <td>142908</td>\n      <td>11.26</td>\n      <td>217</td>\n      <td>18984000.0</td>\n      <td>149.0</td>\n      <td>10.232820</td>\n      <td>4.601663e+12</td>\n      <td>4.579750e+12</td>\n      <td>5.106679e+12</td>\n      <td>5.289494e+12</td>\n      <td>5.759072e+12</td>\n      <td>6.233147e+12</td>\n      <td>6.272363e+12</td>\n      <td>5.212328e+12</td>\n      <td>4.896994e+12</td>\n      <td>4.444931e+12</td>\n    </tr>\n    <tr>\n      <th>South Korea</th>\n      <td>10</td>\n      <td>35294</td>\n      <td>35005</td>\n      <td>503147</td>\n      <td>88993</td>\n      <td>14.26</td>\n      <td>182</td>\n      <td>11007000.0</td>\n      <td>221.0</td>\n      <td>2.279353</td>\n      <td>1.053217e+12</td>\n      <td>1.172614e+12</td>\n      <td>1.047339e+12</td>\n      <td>9.439419e+11</td>\n      <td>1.144067e+12</td>\n      <td>1.253223e+12</td>\n      <td>1.278428e+12</td>\n      <td>1.370795e+12</td>\n      <td>1.484318e+12</td>\n      <td>1.465773e+12</td>\n    </tr>\n    <tr>\n      <th>Russian Federation</th>\n      <td>7</td>\n      <td>43567</td>\n      <td>43290</td>\n      <td>175721</td>\n      <td>81059</td>\n      <td>4.03</td>\n      <td>103</td>\n      <td>30709000.0</td>\n      <td>214.0</td>\n      <td>17.288680</td>\n      <td>9.899321e+11</td>\n      <td>1.299703e+12</td>\n      <td>1.660848e+12</td>\n      <td>1.222646e+12</td>\n      <td>1.524917e+12</td>\n      <td>2.045923e+12</td>\n      <td>2.208294e+12</td>\n      <td>2.292470e+12</td>\n      <td>2.059242e+12</td>\n      <td>1.363482e+12</td>\n    </tr>\n    <tr>\n      <th>Spain</th>\n      <td>13</td>\n      <td>27880</td>\n      <td>27272</td>\n      <td>515485</td>\n      <td>90639</td>\n      <td>18.49</td>\n      <td>202</td>\n      <td>4923000.0</td>\n      <td>106.0</td>\n      <td>37.968590</td>\n      <td>1.260399e+12</td>\n      <td>1.474003e+12</td>\n      <td>1.631863e+12</td>\n      <td>1.491473e+12</td>\n      <td>1.422108e+12</td>\n      <td>1.480710e+12</td>\n      <td>1.324751e+12</td>\n      <td>1.355580e+12</td>\n      <td>1.371821e+12</td>\n      <td>1.196157e+12</td>\n    </tr>\n    <tr>\n      <th>United Kingdom</th>\n      <td>5</td>\n      <td>52572</td>\n      <td>51156</td>\n      <td>909276</td>\n      <td>154898</td>\n      <td>17.30</td>\n      <td>267</td>\n      <td>7920000.0</td>\n      <td>124.0</td>\n      <td>10.600470</td>\n      <td>2.709978e+12</td>\n      <td>3.092996e+12</td>\n      <td>2.931684e+12</td>\n      <td>2.417566e+12</td>\n      <td>2.491397e+12</td>\n      <td>2.666403e+12</td>\n      <td>2.706341e+12</td>\n      <td>2.786315e+12</td>\n      <td>3.065223e+12</td>\n      <td>2.934858e+12</td>\n    </tr>\n    <tr>\n      <th>United States</th>\n      <td>2</td>\n      <td>199442</td>\n      <td>195042</td>\n      <td>3068926</td>\n      <td>911809</td>\n      <td>15.39</td>\n      <td>422</td>\n      <td>90838000.0</td>\n      <td>286.0</td>\n      <td>11.570980</td>\n      <td>1.381559e+13</td>\n      <td>1.447423e+13</td>\n      <td>1.476986e+13</td>\n      <td>1.447806e+13</td>\n      <td>1.504896e+13</td>\n      <td>1.559973e+13</td>\n      <td>1.625397e+13</td>\n      <td>1.684319e+13</td>\n      <td>1.755068e+13</td>\n      <td>1.820602e+13</td>\n    </tr>\n  </tbody>\n</table>\n</div>"
     },
     "execution_count": 16,
     "metadata": {},
     "output_type": "execute_result"
    }
   ],
   "source": [
    "\n",
    "import pandas as pd\n",
    "import numpy as np\n",
    "def answer_one():\n",
    "    energy = pd.read_excel('Energy Indicators.xls', skiprows=17, skipfooter=38)\n",
    "    energy = energy.drop(energy.columns[[0, 1]], axis=1)\n",
    "    energy.columns = ['Country', 'Energy Supply', 'Energy Supply per Capita', '% Renewable']\n",
    "    energy['Energy Supply'] = energy['Energy Supply'] * 1000\n",
    "    energy['Country'] = energy['Country'].str.replace(r' \\(\\d+\\)|\\d+', '', regex=True)\n",
    "    energy = energy.replace(r'\\.{3,}', np.NaN, regex=True)\n",
    "    energy = energy.replace('Republic of Korea', 'South Korea')\n",
    "    energy = energy.replace('United States of America', 'United States')\n",
    "    energy = energy.replace('United Kingdom of Great Britain and Northern Ireland', 'United Kingdom')\n",
    "    energy = energy.replace('China, Hong Kong Special Administrative Region', 'Hong Kong')\n",
    "\n",
    "\n",
    "    GDP = pd.read_csv('world_bank.csv',  header= 2)\n",
    "    GDP = GDP.replace('Korea, Rep.', 'South Korea')\n",
    "    GDP=GDP.replace('Iran, Islamic Rep.', 'Iran')\n",
    "    GDP=GDP.replace('Hong Kong SAR, China', 'Hong Kong')\n",
    "\n",
    "    ScimEn = pd.read_excel('scimagojr country rank 1996-2022.xlsx')\n",
    "    ScimEn = ScimEn.head(15)\n",
    "    GDP = GDP.rename(columns={'Country Name': 'Country'})\n",
    "    GDP = GDP[['Country', '2006', '2007', '2008', '2009', '2010', '2011', '2012', '2013', '2014', '2015']]\n",
    "\n",
    "    merged = pd.merge(energy, GDP, on='Country', how='inner')\n",
    "    merged = pd.merge(merged, ScimEn, on='Country', how='inner')\n",
    "    merged=merged.set_index('Country')\n",
    "    merged = merged[['Rank', 'Documents', 'Citable documents', 'Citations', 'Self-citations', 'Citations per document', 'H index', 'Energy Supply', 'Energy Supply per Capita', '% Renewable', '2006', '2007', '2008', '2009', '2010', '2011', '2012', '2013', '2014', '2015',]]\n",
    "    return merged\n",
    "answer_one()"
   ]
  },
  {
   "cell_type": "code",
   "execution_count": 17,
   "outputs": [
    {
     "data": {
      "text/plain": "Country\nUnited States         1.570403e+13\nChina                 6.927707e+12\nJapan                 5.239642e+12\nGermany               3.523342e+12\nUnited Kingdom        2.780276e+12\nFrance                2.691337e+12\nItaly                 2.142986e+12\nBrazil                1.988889e+12\nRussian Federation    1.666746e+12\nCanada                1.616359e+12\nIndia                 1.602352e+12\nSpain                 1.400886e+12\nSouth Korea           1.221372e+12\nAustralia             1.207513e+12\ndtype: float64"
     },
     "execution_count": 17,
     "metadata": {},
     "output_type": "execute_result"
    }
   ],
   "source": [
    "def answer_two():\n",
    "    Top15 = answer_one()\n",
    "    avgGDP = Top15.loc[:, '2006':'2015'].mean(axis=1).sort_values(ascending=False)\n",
    "    return avgGDP\n",
    "answer_two()"
   ],
   "metadata": {
    "collapsed": false,
    "ExecuteTime": {
     "end_time": "2023-11-16T12:12:10.269700400Z",
     "start_time": "2023-11-16T12:12:09.956721100Z"
    }
   }
  },
  {
   "cell_type": "code",
   "execution_count": 19,
   "outputs": [
    {
     "data": {
      "text/plain": "1163328458449.629"
     },
     "execution_count": 19,
     "metadata": {},
     "output_type": "execute_result"
    }
   ],
   "source": [
    "def answer_three():\n",
    "    Top15 = answer_one()\n",
    "    sixth_country = Top15.index[6]\n",
    "    GDP_2015 = Top15.loc[sixth_country, '2015']\n",
    "    GDP_2006 = Top15.loc[sixth_country, '2006']\n",
    "    GDP_change = GDP_2015 - GDP_2006\n",
    "    return GDP_change\n",
    "answer_three()"
   ],
   "metadata": {
    "collapsed": false,
    "ExecuteTime": {
     "end_time": "2023-11-16T12:12:27.530521200Z",
     "start_time": "2023-11-16T12:12:27.418593200Z"
    }
   }
  },
  {
   "cell_type": "code",
   "execution_count": 20,
   "outputs": [
    {
     "data": {
      "text/plain": "('China', 0.689249218122882)"
     },
     "execution_count": 20,
     "metadata": {},
     "output_type": "execute_result"
    }
   ],
   "source": [
    "def answer_four():\n",
    "    Top15 = answer_one()\n",
    "    Top15['Citation_ratio'] = Top15['Self-citations'] / Top15['Citations']\n",
    "    max_country = Top15['Citation_ratio'].idxmax()\n",
    "    max_value = Top15.loc[max_country, 'Citation_ratio']\n",
    "    return max_country, max_value\n",
    "answer_four()"
   ],
   "metadata": {
    "collapsed": false,
    "ExecuteTime": {
     "end_time": "2023-11-16T12:13:34.003351400Z",
     "start_time": "2023-11-16T12:13:33.879066Z"
    }
   }
  },
  {
   "cell_type": "code",
   "execution_count": 21,
   "outputs": [
    {
     "data": {
      "text/plain": "'United States'"
     },
     "execution_count": 21,
     "metadata": {},
     "output_type": "execute_result"
    }
   ],
   "source": [
    "def answer_five():\n",
    "    Top15 = answer_one()\n",
    "    Top15['Estimated']=Top15['Energy Supply'] / Top15['Energy Supply per Capita']\n",
    "    Top15 = Top15.sort_values(by='Estimated', ascending=False)\n",
    "    thirdcountry = Top15.index[2]\n",
    "    return thirdcountry\n",
    "answer_five()"
   ],
   "metadata": {
    "collapsed": false,
    "ExecuteTime": {
     "end_time": "2023-11-16T12:14:18.842473200Z",
     "start_time": "2023-11-16T12:14:18.717469200Z"
    }
   }
  },
  {
   "cell_type": "code",
   "execution_count": 22,
   "outputs": [
    {
     "data": {
      "text/plain": "-0.5013542841622128"
     },
     "execution_count": 22,
     "metadata": {},
     "output_type": "execute_result"
    }
   ],
   "source": [
    "def answer_six():\n",
    "    Top15 = answer_one()\n",
    "    Top15['Citable documents per Capita'] = Top15['Citable documents'] / Top15['Energy Supply per Capita']\n",
    "    correlation = Top15['Citable documents per Capita'].corr(Top15['Energy Supply per Capita'])\n",
    "    return correlation\n",
    "answer_six()"
   ],
   "metadata": {
    "collapsed": false,
    "ExecuteTime": {
     "end_time": "2023-11-16T12:14:46.957800400Z",
     "start_time": "2023-11-16T12:14:46.840959600Z"
    }
   }
  },
  {
   "cell_type": "code",
   "execution_count": 25,
   "outputs": [
    {
     "data": {
      "text/plain": "               size    sum        mean        std\nContinent                                        \nEurope            6  884.0  147.333333  42.017457\nAsia              4  489.0  122.250000  82.838699\nNorth America     2  582.0  291.000000   7.071068\nAustralia         1  231.0  231.000000        NaN\nSouth America     1   59.0   59.000000        NaN",
      "text/html": "<div>\n<style scoped>\n    .dataframe tbody tr th:only-of-type {\n        vertical-align: middle;\n    }\n\n    .dataframe tbody tr th {\n        vertical-align: top;\n    }\n\n    .dataframe thead th {\n        text-align: right;\n    }\n</style>\n<table border=\"1\" class=\"dataframe\">\n  <thead>\n    <tr style=\"text-align: right;\">\n      <th></th>\n      <th>size</th>\n      <th>sum</th>\n      <th>mean</th>\n      <th>std</th>\n    </tr>\n    <tr>\n      <th>Continent</th>\n      <th></th>\n      <th></th>\n      <th></th>\n      <th></th>\n    </tr>\n  </thead>\n  <tbody>\n    <tr>\n      <th>Europe</th>\n      <td>6</td>\n      <td>884.0</td>\n      <td>147.333333</td>\n      <td>42.017457</td>\n    </tr>\n    <tr>\n      <th>Asia</th>\n      <td>4</td>\n      <td>489.0</td>\n      <td>122.250000</td>\n      <td>82.838699</td>\n    </tr>\n    <tr>\n      <th>North America</th>\n      <td>2</td>\n      <td>582.0</td>\n      <td>291.000000</td>\n      <td>7.071068</td>\n    </tr>\n    <tr>\n      <th>Australia</th>\n      <td>1</td>\n      <td>231.0</td>\n      <td>231.000000</td>\n      <td>NaN</td>\n    </tr>\n    <tr>\n      <th>South America</th>\n      <td>1</td>\n      <td>59.0</td>\n      <td>59.000000</td>\n      <td>NaN</td>\n    </tr>\n  </tbody>\n</table>\n</div>"
     },
     "execution_count": 25,
     "metadata": {},
     "output_type": "execute_result"
    }
   ],
   "source": [
    "def answer_seven():\n",
    "    Top15 = answer_one()\n",
    "    ContinentDict  = {'China':'Asia',\n",
    "                  'United States':'North America',\n",
    "                  'Japan':'Asia',\n",
    "                  'United Kingdom':'Europe',\n",
    "                  'Russian Federation':'Europe',\n",
    "                  'Canada':'North America',\n",
    "                  'Germany':'Europe',\n",
    "                  'India':'Asia',\n",
    "                  'France':'Europe',\n",
    "                  'South Korea':'Asia',\n",
    "                  'Italy':'Europe',\n",
    "                  'Spain':'Europe',\n",
    "                  'Iran':'Asia',\n",
    "                  'Australia':'Australia',\n",
    "                  'Brazil':'South America'}\n",
    "    Top15['Continent'] = Top15.index.map(ContinentDict)\n",
    "    result = Top15.groupby('Continent')['Energy Supply per Capita'].agg(['size', 'sum', 'mean', 'std'])\n",
    "    result = result.sort_values(by = 'size', ascending=False)\n",
    "    return result\n",
    "answer_seven()"
   ],
   "metadata": {
    "collapsed": false,
    "ExecuteTime": {
     "end_time": "2023-11-16T12:24:06.543517Z",
     "start_time": "2023-11-16T12:24:06.361647100Z"
    }
   }
  },
  {
   "cell_type": "code",
   "execution_count": null,
   "outputs": [],
   "source": [],
   "metadata": {
    "collapsed": false
   }
  }
 ],
 "metadata": {
  "kernelspec": {
   "display_name": "Python 3",
   "language": "python",
   "name": "python3"
  },
  "language_info": {
   "codemirror_mode": {
    "name": "ipython",
    "version": 2
   },
   "file_extension": ".py",
   "mimetype": "text/x-python",
   "name": "python",
   "nbconvert_exporter": "python",
   "pygments_lexer": "ipython2",
   "version": "2.7.6"
  }
 },
 "nbformat": 4,
 "nbformat_minor": 0
}
